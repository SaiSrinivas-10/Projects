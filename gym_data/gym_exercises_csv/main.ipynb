{
 "cells": [
  {
   "attachments": {},
   "cell_type": "markdown",
   "metadata": {},
   "source": [
    "Insights\n",
    "\n",
    "Level - Beginner, Intermediate, Expert\n",
    "\n",
    "Type - Strength, Plyometrics, Cardio, Stretching, Powerlifting, Strongman, Olympic Weightlifting\n",
    "\n",
    "Equipment - Bands, Barbell, Kettlebells, Dumbbell, Other, Cable, Machine, Body Only, Medicine Ball, None, Exercise Ball,Foam Roll, E-Z Curl Bar"
   ]
  },
  {
   "attachments": {},
   "cell_type": "markdown",
   "metadata": {},
   "source": [
    "NOTES\n",
    "\n",
    "Push : Chest, Shoulders, Triceps, Forearms, Neck\n",
    "\n",
    "Pull : Traps, Biceps, Forearms, Lats, Lower Back, Middle Back\n",
    "\n",
    "Legs : Quadriceps, Adductors, Abductors, Calves, Glutes, Hamstrings\n",
    "\n",
    "---------------------------------------------------------------------------------------\n",
    "\n",
    "Monday, Thursday : Push \n",
    "\n",
    "Tuesday, Friday : Pull \n",
    "\n",
    "Wednesday, Saturday : Legs\n",
    "\n"
   ]
  },
  {
   "cell_type": "code",
   "execution_count": null,
   "metadata": {},
   "outputs": [],
   "source": [
    "#Enter you phonenumber with the country code\n",
    "%env PHONE_NUMBER =  ''"
   ]
  },
  {
   "cell_type": "code",
   "execution_count": null,
   "metadata": {},
   "outputs": [],
   "source": [
    "import pandas as pd \n",
    "import random\n",
    "from datetime import datetime\n",
    "import os\n",
    "import pywhatkit as pwk"
   ]
  },
  {
   "cell_type": "code",
   "execution_count": null,
   "metadata": {},
   "outputs": [],
   "source": [
    "df = pd.read_csv('./megaGymDataset.csv')"
   ]
  },
  {
   "cell_type": "code",
   "execution_count": null,
   "metadata": {},
   "outputs": [],
   "source": [
    "#Getting todays day\n",
    "day = datetime.now().strftime('%A')\n",
    "\n",
    "#Creating a dictionary, to map the day with Push, Pull or Legs\n",
    "\n",
    "workout_plan = {'Saturday' : 'Push', 'Monday' : 'Pull', 'Tuesday': 'Legs', 'Wednesday' : 'Push', 'Thursday' : 'Pull', 'Friday': 'Legs'}\n",
    "\n",
    "day_of_workout = workout_plan[day]\n"
   ]
  },
  {
   "cell_type": "code",
   "execution_count": null,
   "metadata": {},
   "outputs": [],
   "source": [
    "#Creating the body part that comes under Push, Pull, Legs\n",
    "\n",
    "Body_part = {\n",
    "    'Push' : ['Chest', 'Shoulders', 'Triceps', 'Forearms', 'Neck'],\n",
    "    'Pull' : ['Traps', 'Biceps', 'Forearms', 'Lats', 'Lower Back', 'Middle Back'],\n",
    "    'Legs' : ['Quadriceps', 'Adductors', 'Abductors', 'Calves', 'Glutes', 'Hamstrings']\n",
    "}\n",
    "\n",
    "will_be_training_today = Body_part[day_of_workout]"
   ]
  },
  {
   "cell_type": "code",
   "execution_count": null,
   "metadata": {},
   "outputs": [],
   "source": [
    "home_exercises = []\n",
    "for part in will_be_training_today:\n",
    "    home_exercises.append(\"\\n*->\"+str(part)+\"*\")\n",
    "    for i in range(5):\n",
    "        home_exercise = df.loc[(df['BodyPart'] == part) & ((df['Equipment']  == 'Body Only') | (df['Equipment']  == 'Other'))]['Title'].sample().to_string()\n",
    "        home_exercises.append(str(home_exercise[7:]))\n",
    "\n",
    "home_exercises_final = '\\n'.join([i for i in home_exercises[1:]])"
   ]
  },
  {
   "cell_type": "code",
   "execution_count": null,
   "metadata": {},
   "outputs": [],
   "source": [
    "gym_exercises = []\n",
    "for part in will_be_training_today:\n",
    "    gym_exercises.append(\"\\n*->\"+str(part)+\"*\")\n",
    "    for i in range(5):\n",
    "        gym_exercise = df.loc[(df['BodyPart'] == part)]['Title'].sample().to_string()\n",
    "        gym_exercises.append(str(gym_exercise[7:]))\n",
    "\n",
    "gym_exercises_final = '\\n'.join([i for i in gym_exercises[1:]])\n"
   ]
  },
  {
   "cell_type": "code",
   "execution_count": null,
   "metadata": {},
   "outputs": [],
   "source": [
    "home_workout_msg = \"Today is *\" +day+\"* \\n*\"+str(day_of_workout) +\"* Day \\n *\" +str(will_be_training_today)+\"* \\n\\n\\n*HOME WORKOUT EXERCISES* \\n\\n\" +home_exercises_final +\"\\n\\n\\n*GYM WORKOUT EXERCISES* \\n\\n\" +gym_exercises_final\n",
    "\n",
    "pwk.sendwhatmsg_instantly(os.environ['PHONE_NUMBER'], home_workout_msg)"
   ]
  },
  {
   "cell_type": "code",
   "execution_count": null,
   "metadata": {},
   "outputs": [],
   "source": []
  }
 ],
 "metadata": {
  "kernelspec": {
   "display_name": "practice",
   "language": "python",
   "name": "python3"
  },
  "language_info": {
   "codemirror_mode": {
    "name": "ipython",
    "version": 3
   },
   "file_extension": ".py",
   "mimetype": "text/x-python",
   "name": "python",
   "nbconvert_exporter": "python",
   "pygments_lexer": "ipython3",
   "version": "3.11.0"
  },
  "orig_nbformat": 4,
  "vscode": {
   "interpreter": {
    "hash": "3bc87c95aed6b8cba18a160c7b5e078ef100120c0efa438febe405f9207addd0"
   }
  }
 },
 "nbformat": 4,
 "nbformat_minor": 2
}
