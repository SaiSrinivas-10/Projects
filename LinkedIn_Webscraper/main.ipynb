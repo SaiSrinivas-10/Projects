{
 "cells": [
  {
   "cell_type": "code",
   "execution_count": 78,
   "metadata": {},
   "outputs": [],
   "source": [
    "from selenium import webdriver\n",
    "from selenium.webdriver.common.by import By\n",
    "from selenium.webdriver.common.keys import Keys\n",
    "import time\n",
    "import os\n",
    "from selenium.common.exceptions import NoSuchElementException, ElementClickInterceptedException\n",
    "import csv\n",
    "import pandas as pd"
   ]
  },
  {
   "cell_type": "code",
   "execution_count": 121,
   "metadata": {},
   "outputs": [
    {
     "name": "stderr",
     "output_type": "stream",
     "text": [
      "C:\\Users\\saike\\AppData\\Local\\Temp\\ipykernel_130660\\2264692100.py:2: DeprecationWarning: executable_path has been deprecated, please pass in a Service object\n",
      "  driver = webdriver.Chrome(executable_path=Driver_path)\n"
     ]
    }
   ],
   "source": [
    "Driver_path =  './chromedriver.exe'\n",
    "driver = webdriver.Chrome(executable_path=Driver_path)\n",
    "search_item = \"Data Scientist\"\n",
    "search_item = search_item.replace(\" \",\"-\")\n",
    "search_item = search_item + \"-jobs\"\n",
    "complete_url = \"https://www.linkedin.com/jobs/\"+search_item\n",
    "driver.get(complete_url)\n",
    "time.sleep(2)\n",
    "\n",
    "for i in range(2):\n",
    "    driver.execute_script(\"window.scrollTo(0,document.body.scrollHeight)\")\n",
    "    time.sleep(3)\n",
    "\n",
    "job_names = driver.find_element(By.CLASS_NAME,'jobs-search__results-list').find_elements(By.TAG_NAME,'span')\n",
    "job_titles = [job_name.text for job_name in job_names]\n",
    "\n",
    "job_links = driver.find_element(By.CLASS_NAME,'jobs-search__results-list').find_elements(By.TAG_NAME,'a')\n",
    "apply_link = [job_link.text for job_link in job_links]\n",
    "\n",
    "\n",
    "final_jobs = [jobs for jobs in job_titles if \"Actively\" not in jobs and \"$\" not in jobs and \"insurance\" not in jobs.lower() and \"Be an early applicant\" not in jobs]\n",
    "\n",
    "time.sleep(2)\n",
    "driver.quit()\n"
   ]
  },
  {
   "cell_type": "code",
   "execution_count": 122,
   "metadata": {},
   "outputs": [],
   "source": [
    "job_list = []\n",
    "place_list = []\n",
    "for job in range(len(final_jobs)):\n",
    "    if(job%2 == 0):\n",
    "        job_list.append(final_jobs[job])\n",
    "    else:\n",
    "        place_list.append(final_jobs[job])"
   ]
  },
  {
   "cell_type": "code",
   "execution_count": 123,
   "metadata": {},
   "outputs": [],
   "source": [
    "company_name = []\n",
    "for company in range(len(apply_link)):\n",
    "    if(company%2 != 0):\n",
    "        company_name.append(apply_link[company])"
   ]
  },
  {
   "cell_type": "code",
   "execution_count": 124,
   "metadata": {},
   "outputs": [
    {
     "name": "stdout",
     "output_type": "stream",
     "text": [
      "CSV File successfully created\n"
     ]
    }
   ],
   "source": [
    "file_name = \"jobs.csv\"\n",
    "data = list(zip(job_list,company_name,place_list))\n",
    "with open(file_name, 'w', newline = '') as csvfile:\n",
    "    csvwriter = csv.writer(csvfile)\n",
    "    csvwriter.writerow(['Job Title', 'Company_name ','Location'])\n",
    "    csvwriter.writerows(data)\n",
    "\n",
    "print(\"CSV File successfully created\")"
   ]
  },
  {
   "cell_type": "code",
   "execution_count": 125,
   "metadata": {},
   "outputs": [
    {
     "data": {
      "text/html": [
       "<div>\n",
       "<style scoped>\n",
       "    .dataframe tbody tr th:only-of-type {\n",
       "        vertical-align: middle;\n",
       "    }\n",
       "\n",
       "    .dataframe tbody tr th {\n",
       "        vertical-align: top;\n",
       "    }\n",
       "\n",
       "    .dataframe thead th {\n",
       "        text-align: right;\n",
       "    }\n",
       "</style>\n",
       "<table border=\"1\" class=\"dataframe\">\n",
       "  <thead>\n",
       "    <tr style=\"text-align: right;\">\n",
       "      <th></th>\n",
       "      <th>Job Title</th>\n",
       "      <th>Company_name</th>\n",
       "      <th>Location</th>\n",
       "    </tr>\n",
       "  </thead>\n",
       "  <tbody>\n",
       "    <tr>\n",
       "      <th>0</th>\n",
       "      <td>Data Scientist</td>\n",
       "      <td>Mercedes-Benz Research &amp; Development North Ame...</td>\n",
       "      <td>Sunnyvale, CA</td>\n",
       "    </tr>\n",
       "    <tr>\n",
       "      <th>1</th>\n",
       "      <td>Data Scientist</td>\n",
       "      <td>SecureSpace</td>\n",
       "      <td>Torrance, CA</td>\n",
       "    </tr>\n",
       "    <tr>\n",
       "      <th>2</th>\n",
       "      <td>Data Scientist (Remote US Only)</td>\n",
       "      <td>ArborMetrix</td>\n",
       "      <td>Ann Arbor, MI</td>\n",
       "    </tr>\n",
       "    <tr>\n",
       "      <th>3</th>\n",
       "      <td>Data Scientist</td>\n",
       "      <td>Project Canary</td>\n",
       "      <td>Denver, CO</td>\n",
       "    </tr>\n",
       "    <tr>\n",
       "      <th>4</th>\n",
       "      <td>Data Scientist Full Time</td>\n",
       "      <td>Bardess Group Ltd</td>\n",
       "      <td>New York, NY</td>\n",
       "    </tr>\n",
       "    <tr>\n",
       "      <th>...</th>\n",
       "      <td>...</td>\n",
       "      <td>...</td>\n",
       "      <td>...</td>\n",
       "    </tr>\n",
       "    <tr>\n",
       "      <th>69</th>\n",
       "      <td>Data Scientist</td>\n",
       "      <td>Data Scientist</td>\n",
       "      <td>Dallas, TX</td>\n",
       "    </tr>\n",
       "    <tr>\n",
       "      <th>70</th>\n",
       "      <td>Data Scientist</td>\n",
       "      <td>Data Scientist</td>\n",
       "      <td>New York, NY</td>\n",
       "    </tr>\n",
       "    <tr>\n",
       "      <th>71</th>\n",
       "      <td>Data Scientist</td>\n",
       "      <td>Data Scientist</td>\n",
       "      <td>Irving, TX</td>\n",
       "    </tr>\n",
       "    <tr>\n",
       "      <th>72</th>\n",
       "      <td>Data Scientist I</td>\n",
       "      <td>Data Scientist I</td>\n",
       "      <td>United States</td>\n",
       "    </tr>\n",
       "    <tr>\n",
       "      <th>73</th>\n",
       "      <td>Machine Learning Engineer</td>\n",
       "      <td>Machine Learning Engineer</td>\n",
       "      <td>New York, United States</td>\n",
       "    </tr>\n",
       "  </tbody>\n",
       "</table>\n",
       "<p>74 rows × 3 columns</p>\n",
       "</div>"
      ],
      "text/plain": [
       "                          Job Title  \\\n",
       "0                    Data Scientist   \n",
       "1                    Data Scientist   \n",
       "2   Data Scientist (Remote US Only)   \n",
       "3                    Data Scientist   \n",
       "4          Data Scientist Full Time   \n",
       "..                              ...   \n",
       "69                   Data Scientist   \n",
       "70                   Data Scientist   \n",
       "71                   Data Scientist   \n",
       "72                 Data Scientist I   \n",
       "73        Machine Learning Engineer   \n",
       "\n",
       "                                        Company_name                  Location  \n",
       "0   Mercedes-Benz Research & Development North Ame...            Sunnyvale, CA  \n",
       "1                                         SecureSpace             Torrance, CA  \n",
       "2                                         ArborMetrix            Ann Arbor, MI  \n",
       "3                                      Project Canary               Denver, CO  \n",
       "4                                   Bardess Group Ltd             New York, NY  \n",
       "..                                                ...                      ...  \n",
       "69                                     Data Scientist               Dallas, TX  \n",
       "70                                     Data Scientist             New York, NY  \n",
       "71                                     Data Scientist               Irving, TX  \n",
       "72                                   Data Scientist I            United States  \n",
       "73                          Machine Learning Engineer  New York, United States  \n",
       "\n",
       "[74 rows x 3 columns]"
      ]
     },
     "execution_count": 125,
     "metadata": {},
     "output_type": "execute_result"
    }
   ],
   "source": [
    "\n",
    "df = pd.read_csv(open(\"./jobs.csv\"))\n",
    "df"
   ]
  },
  {
   "cell_type": "code",
   "execution_count": null,
   "metadata": {},
   "outputs": [],
   "source": []
  }
 ],
 "metadata": {
  "kernelspec": {
   "display_name": "practice",
   "language": "python",
   "name": "python3"
  },
  "language_info": {
   "codemirror_mode": {
    "name": "ipython",
    "version": 3
   },
   "file_extension": ".py",
   "mimetype": "text/x-python",
   "name": "python",
   "nbconvert_exporter": "python",
   "pygments_lexer": "ipython3",
   "version": "3.11.0"
  },
  "orig_nbformat": 4,
  "vscode": {
   "interpreter": {
    "hash": "3bc87c95aed6b8cba18a160c7b5e078ef100120c0efa438febe405f9207addd0"
   }
  }
 },
 "nbformat": 4,
 "nbformat_minor": 2
}
