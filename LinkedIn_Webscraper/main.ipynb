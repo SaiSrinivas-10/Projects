{
 "cells": [
  {
   "cell_type": "code",
   "execution_count": null,
   "metadata": {},
   "outputs": [],
   "source": [
    "from selenium import webdriver\n",
    "from selenium.webdriver.common.by import By\n",
    "from selenium.webdriver.common.keys import Keys\n",
    "import time\n",
    "import os\n",
    "from selenium.common.exceptions import NoSuchElementException, ElementClickInterceptedException"
   ]
  },
  {
   "cell_type": "code",
   "execution_count": null,
   "metadata": {},
   "outputs": [],
   "source": [
    "Driver_path =  './chromedriver.exe'\n",
    "driver = webdriver.Chrome(executable_path=Driver_path)\n",
    "driver.get('https://www.linkedin.com/feed/')\n",
    "search_item = \"Entry Level Software Engineer\"\n",
    "my_username = os.environ.get('USERNAME')\n",
    "my_password = os.environ.get('PASSWORD')\n",
    "\n",
    "#Clickin on Already have an account\n",
    "driver.find_element(By.CLASS_NAME,\"main__sign-in-link\").click() \n",
    "time.sleep(2)\n",
    "\n",
    "#Entering Username and password\n",
    "driver.find_element(By.ID,\"username\").send_keys(my_username)\n",
    "driver.find_element(By.ID,\"password\").send_keys(my_password,Keys.ENTER)\n",
    "time.sleep(2)\n",
    "\n",
    "#Searching for search_item\n",
    "driver.find_element(By.XPATH,\"//div[@class = 'search-typeahead-v2 search-global-typeahead__typeahead']/input\").send_keys(search_item,Keys.ENTER)\n",
    "time.sleep(4)\n",
    "\n",
    "#Clicking on show more results\n",
    "driver.find_element(By.XPATH,\"//div[@class = 'search-results__cluster-bottom-banner artdeco-button artdeco-button--tertiary artdeco-button--muted']/a\").click()\n",
    "time.sleep(4)\n",
    "\n",
    "#Getting the Job Details\n",
    "\n",
    "ul_element = driver.find_element(By.CLASS_NAME,'scaffold-layout__list-container').find_elements(By.TAG_NAME,'a')\n",
    "li_texts = [li.text for li in ul_element]\n",
    "print(li_texts)\n",
    "\n",
    "#closing chrome after collecting data \n",
    "time.sleep(4)\n",
    "driver.quit()\n"
   ]
  },
  {
   "cell_type": "code",
   "execution_count": null,
   "metadata": {},
   "outputs": [],
   "source": []
  }
 ],
 "metadata": {
  "kernelspec": {
   "display_name": "Python 3",
   "language": "python",
   "name": "python3"
  },
  "language_info": {
   "codemirror_mode": {
    "name": "ipython",
    "version": 3
   },
   "file_extension": ".py",
   "mimetype": "text/x-python",
   "name": "python",
   "nbconvert_exporter": "python",
   "pygments_lexer": "ipython3",
   "version": "3.11.0"
  },
  "orig_nbformat": 4,
  "vscode": {
   "interpreter": {
    "hash": "c261aea317cc0286b3b3261fbba9abdec21eaa57589985bb7a274bf54d6cc0a7"
   }
  }
 },
 "nbformat": 4,
 "nbformat_minor": 2
}
