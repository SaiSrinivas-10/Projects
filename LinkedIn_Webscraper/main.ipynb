{
 "cells": [
  {
   "cell_type": "code",
   "execution_count": 36,
   "metadata": {},
   "outputs": [
    {
     "name": "stdout",
     "output_type": "stream",
     "text": [
      "Collecting beautifulsoup4Note: you may need to restart the kernel to use updated packages.\n",
      "\n",
      "  Downloading beautifulsoup4-4.11.1-py3-none-any.whl (128 kB)\n",
      "     -------------------------------------- 128.2/128.2 kB 1.5 MB/s eta 0:00:00\n",
      "Collecting soupsieve>1.2\n",
      "  Downloading soupsieve-2.3.2.post1-py3-none-any.whl (37 kB)\n",
      "Installing collected packages: soupsieve, beautifulsoup4\n",
      "Successfully installed beautifulsoup4-4.11.1 soupsieve-2.3.2.post1\n"
     ]
    },
    {
     "name": "stderr",
     "output_type": "stream",
     "text": [
      "\n",
      "[notice] A new release of pip available: 22.3 -> 22.3.1\n",
      "[notice] To update, run: python.exe -m pip install --upgrade pip\n"
     ]
    }
   ],
   "source": [
    "pip install beautifulsoup4"
   ]
  },
  {
   "cell_type": "code",
   "execution_count": 38,
   "metadata": {},
   "outputs": [],
   "source": [
    "from selenium import webdriver\n",
    "from selenium.webdriver.common.by import By\n",
    "from selenium.webdriver.common.keys import Keys\n",
    "import time\n",
    "import os\n",
    "from selenium.common.exceptions import NoSuchElementException, ElementClickInterceptedException\n",
    "from bs4 import BeautifulSoup\n",
    "import requests"
   ]
  },
  {
   "cell_type": "code",
   "execution_count": 59,
   "metadata": {},
   "outputs": [
    {
     "name": "stderr",
     "output_type": "stream",
     "text": [
      "C:\\Users\\saike\\AppData\\Local\\Temp\\ipykernel_111532\\2121368820.py:2: DeprecationWarning: executable_path has been deprecated, please pass in a Service object\n",
      "  driver = webdriver.Chrome(executable_path=Driver_path)\n"
     ]
    },
    {
     "name": "stdout",
     "output_type": "stream",
     "text": [
      "['', 'Software Engineer (Javascript)', 'Acceler8 Talent', '', 'Frontend Software Engineer', 'Ever.Ag', '', 'Full Stack Engineer', 'POSH', '', 'Frontend Developer', 'Strider Technologies', '', 'Junior Software Engineer', 'Lincoln Financial Group', '', 'Aristocrat Technologies, Junior Software Engineer - Application via WayUp', 'WayUp', '1 company alumnus works here', '', 'Junior Software Engineer', 'Leidos', '1 company alumnus works here']\n"
     ]
    }
   ],
   "source": [
    "Driver_path =  './chromedriver.exe'\n",
    "driver = webdriver.Chrome(executable_path=Driver_path)\n",
    "driver.get('https://www.linkedin.com/feed/')\n",
    "search_item = \"Entry Level Software Engineer\"\n",
    "my_username = os.environ.get('USERNAME')\n",
    "my_password = os.environ.get('PASSWORD')\n",
    "\n",
    "#Clickin on Already have an account\n",
    "driver.find_element(By.CLASS_NAME,\"main__sign-in-link\").click() \n",
    "time.sleep(2)\n",
    "\n",
    "#Entering Username and password\n",
    "driver.find_element(By.ID,\"username\").send_keys(my_username)\n",
    "driver.find_element(By.ID,\"password\").send_keys(my_password,Keys.ENTER)\n",
    "time.sleep(2)\n",
    "\n",
    "#Searching for search_item\n",
    "driver.find_element(By.XPATH,\"//div[@class = 'search-typeahead-v2 search-global-typeahead__typeahead']/input\").send_keys(search_item,Keys.ENTER)\n",
    "time.sleep(4)\n",
    "\n",
    "#Clicking on show more results\n",
    "driver.find_element(By.XPATH,\"//div[@class = 'search-results__cluster-bottom-banner artdeco-button artdeco-button--tertiary artdeco-button--muted']/a\").click()\n",
    "time.sleep(4)\n",
    "\n",
    "#Getting the Job Details\n",
    "\n",
    "ul_element = driver.find_element(By.CLASS_NAME,'scaffold-layout__list-container').find_elements(By.TAG_NAME,'a')\n",
    "li_texts = [li.text for li in ul_element]\n",
    "print(li_texts)\n",
    "\n",
    "#closing chrome after collecting data \n",
    "# time.sleep(4)\n",
    "# driver.quit()\n"
   ]
  },
  {
   "cell_type": "code",
   "execution_count": null,
   "metadata": {},
   "outputs": [],
   "source": []
  }
 ],
 "metadata": {
  "kernelspec": {
   "display_name": "practice",
   "language": "python",
   "name": "python3"
  },
  "language_info": {
   "codemirror_mode": {
    "name": "ipython",
    "version": 3
   },
   "file_extension": ".py",
   "mimetype": "text/x-python",
   "name": "python",
   "nbconvert_exporter": "python",
   "pygments_lexer": "ipython3",
   "version": "3.11.0"
  },
  "orig_nbformat": 4,
  "vscode": {
   "interpreter": {
    "hash": "71249e1581e1068dcc78e6e1c5429684fdd030611588a78fc9f30303767473c2"
   }
  }
 },
 "nbformat": 4,
 "nbformat_minor": 2
}
