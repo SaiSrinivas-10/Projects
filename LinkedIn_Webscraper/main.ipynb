{
 "cells": [
  {
   "cell_type": "code",
   "execution_count": null,
   "metadata": {},
   "outputs": [],
   "source": [
    "from selenium import webdriver\n",
    "from selenium.webdriver.common.by import By\n",
    "from selenium.webdriver.common.keys import Keys\n",
    "import time\n",
    "import os\n",
    "from selenium.common.exceptions import NoSuchElementException, ElementClickInterceptedException\n",
    "import csv\n",
    "import pandas as pd"
   ]
  },
  {
   "cell_type": "code",
   "execution_count": null,
   "metadata": {},
   "outputs": [],
   "source": [
    "Driver_path =  './chromedriver.exe'\n",
    "driver = webdriver.Chrome(executable_path=Driver_path)\n",
    "search_item = \"Data Scientist\"\n",
    "search_item = search_item.replace(\" \",\"-\")\n",
    "search_item = search_item + \"-jobs\"\n",
    "complete_url = \"https://www.linkedin.com/jobs/\"+search_item\n",
    "driver.get(complete_url)\n",
    "time.sleep(2)\n",
    "\n",
    "for i in range(2):\n",
    "    driver.execute_script(\"window.scrollTo(0,document.body.scrollHeight)\")\n",
    "    time.sleep(3)\n",
    "\n",
    "job_names = driver.find_element(By.CLASS_NAME,'jobs-search__results-list').find_elements(By.TAG_NAME,'span')\n",
    "job_titles = [job_name.text for job_name in job_names]\n",
    "\n",
    "job_links = driver.find_element(By.CLASS_NAME,'jobs-search__results-list').find_elements(By.TAG_NAME,'a')\n",
    "apply_link = [job_link.text for job_link in job_links]\n",
    "\n",
    "\n",
    "final_jobs = [jobs for jobs in job_titles if \"Actively\" not in jobs and \"$\" not in jobs and \"insurance\" not in jobs.lower() and \"Be an early applicant\" not in jobs]\n",
    "\n",
    "time.sleep(2)\n",
    "driver.quit()\n",
    "\n",
    "print(str(len(final_jobs)//2) + \" jobs applied\")\n"
   ]
  },
  {
   "cell_type": "code",
   "execution_count": null,
   "metadata": {},
   "outputs": [],
   "source": [
    "final_jobs"
   ]
  },
  {
   "cell_type": "code",
   "execution_count": null,
   "metadata": {},
   "outputs": [],
   "source": [
    "job_name = []\n",
    "place_list = []\n",
    "for job in range(len(final_jobs)):\n",
    "    if(job%2 == 0):\n",
    "        job_name.append(final_jobs[job])\n",
    "    else:\n",
    "        place_list.append(final_jobs[job])"
   ]
  },
  {
   "cell_type": "code",
   "execution_count": null,
   "metadata": {},
   "outputs": [],
   "source": [
    "company_name = []\n",
    "for company in range(len(apply_link)):\n",
    "    if(company%2 != 0):\n",
    "        company_name.append(apply_link[company])\n",
    "    "
   ]
  },
  {
   "cell_type": "code",
   "execution_count": null,
   "metadata": {},
   "outputs": [],
   "source": [
    "file_name = \"jobs.csv\"\n",
    "data = list(zip(job_name,company_name,place_list))\n",
    "with open(file_name, 'w', newline = '') as csvfile:\n",
    "    csvwriter = csv.writer(csvfile)\n",
    "    csvwriter.writerow(['Job Title', 'Company_name ','Location'])\n",
    "    csvwriter.writerows(data)\n",
    "\n",
    "print(\"CSV File successfully created\")"
   ]
  },
  {
   "cell_type": "code",
   "execution_count": null,
   "metadata": {},
   "outputs": [],
   "source": [
    "company_name"
   ]
  },
  {
   "cell_type": "code",
   "execution_count": null,
   "metadata": {},
   "outputs": [],
   "source": [
    "\n",
    "df = pd.read_csv(open(\"./jobs.csv\"))\n",
    "df"
   ]
  },
  {
   "cell_type": "code",
   "execution_count": null,
   "metadata": {},
   "outputs": [],
   "source": []
  }
 ],
 "metadata": {
  "kernelspec": {
   "display_name": "practice",
   "language": "python",
   "name": "python3"
  },
  "language_info": {
   "codemirror_mode": {
    "name": "ipython",
    "version": 3
   },
   "file_extension": ".py",
   "mimetype": "text/x-python",
   "name": "python",
   "nbconvert_exporter": "python",
   "pygments_lexer": "ipython3",
   "version": "3.11.0"
  },
  "orig_nbformat": 4,
  "vscode": {
   "interpreter": {
    "hash": "3bc87c95aed6b8cba18a160c7b5e078ef100120c0efa438febe405f9207addd0"
   }
  }
 },
 "nbformat": 4,
 "nbformat_minor": 2
}
