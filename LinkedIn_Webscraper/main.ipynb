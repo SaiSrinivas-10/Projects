{
 "cells": [
  {
   "cell_type": "code",
   "execution_count": 1,
   "metadata": {},
   "outputs": [
    {
     "name": "stdout",
     "output_type": "stream",
     "text": [
      "Requirement already satisfied: selenium==4.7.2 in c:\\users\\saike\\onedrive\\desktop\\projects\\projects\\linkedin_webscraper\\practice\\lib\\site-packages (from -r requirements.txt (line 1)) (4.7.2)\n",
      "Collecting pycopy-webbrowser==0.0.0\n",
      "  Using cached pycopy-webbrowser-0.0.0.tar.gz (631 bytes)\n",
      "Note: you may need to restart the kernel to use updated packages.\n"
     ]
    },
    {
     "name": "stderr",
     "output_type": "stream",
     "text": [
      "ERROR: pycopy-webbrowser==0.0.0 from https://files.pythonhosted.org/packages/40/6f/3534aa5470f69aede4ec969a4f64981892e5bd838ea8e148d8d7ee52f1bc/pycopy-webbrowser-0.0.0.tar.gz (from -r requirements.txt (line 2)) does not appear to be a Python project: neither 'setup.py' nor 'pyproject.toml' found.\n",
      "\n",
      "[notice] A new release of pip available: 22.3 -> 22.3.1\n",
      "[notice] To update, run: python.exe -m pip install --upgrade pip\n"
     ]
    }
   ],
   "source": [
    "pip install -r requirements.txt"
   ]
  },
  {
   "cell_type": "code",
   "execution_count": 2,
   "metadata": {},
   "outputs": [],
   "source": [
    "from selenium import webdriver\n",
    "from selenium.webdriver.common.by import By\n",
    "from selenium.webdriver.common.keys import Keys\n",
    "import time\n",
    "import os\n",
    "from selenium.common.exceptions import NoSuchElementException, ElementClickInterceptedException\n",
    "import csv\n",
    "import pandas as pd\n",
    "import webbrowser"
   ]
  },
  {
   "cell_type": "code",
   "execution_count": 25,
   "metadata": {},
   "outputs": [
    {
     "name": "stderr",
     "output_type": "stream",
     "text": [
      "C:\\Users\\saike\\AppData\\Local\\Temp\\ipykernel_109460\\811983177.py:2: DeprecationWarning: executable_path has been deprecated, please pass in a Service object\n",
      "  driver = webdriver.Chrome(executable_path=Driver_path)\n"
     ]
    },
    {
     "ename": "NoSuchWindowException",
     "evalue": "Message: no such window: target window already closed\nfrom unknown error: web view not found\n  (Session info: chrome=109.0.5414.74)\nStacktrace:\nBacktrace:\n\t(No symbol) [0x00966643]\n\t(No symbol) [0x008FBE21]\n\t(No symbol) [0x007FDA9D]\n\t(No symbol) [0x007DEF6A]\n\t(No symbol) [0x00853AAB]\n\t(No symbol) [0x008661B6]\n\t(No symbol) [0x0084FB76]\n\t(No symbol) [0x008249C1]\n\t(No symbol) [0x00825E5D]\n\tGetHandleVerifier [0x00BDA142+2497106]\n\tGetHandleVerifier [0x00C085D3+2686691]\n\tGetHandleVerifier [0x00C0BB9C+2700460]\n\tGetHandleVerifier [0x00A13B10+635936]\n\t(No symbol) [0x00904A1F]\n\t(No symbol) [0x0090A418]\n\t(No symbol) [0x0090A505]\n\t(No symbol) [0x0091508B]\n\tBaseThreadInitThunk [0x75606BD9+25]\n\tRtlGetFullPathName_UEx [0x77388FD2+1218]\n\tRtlGetFullPathName_UEx [0x77388F9D+1165]\n",
     "output_type": "error",
     "traceback": [
      "\u001b[1;31m---------------------------------------------------------------------------\u001b[0m",
      "\u001b[1;31mNoSuchWindowException\u001b[0m                     Traceback (most recent call last)",
      "Cell \u001b[1;32mIn[25], line 15\u001b[0m\n\u001b[0;32m     11\u001b[0m time\u001b[39m.\u001b[39msleep(\u001b[39m2\u001b[39m)\n\u001b[0;32m     14\u001b[0m \u001b[39mfor\u001b[39;00m i \u001b[39min\u001b[39;00m \u001b[39mrange\u001b[39m(\u001b[39m2\u001b[39m):\n\u001b[1;32m---> 15\u001b[0m     driver\u001b[39m.\u001b[39;49mexecute_script(\u001b[39m\"\u001b[39;49m\u001b[39mwindow.scrollTo(0,document.body.scrollHeight)\u001b[39;49m\u001b[39m\"\u001b[39;49m)\n\u001b[0;32m     16\u001b[0m     time\u001b[39m.\u001b[39msleep(\u001b[39m3\u001b[39m)\n\u001b[0;32m     18\u001b[0m job_names \u001b[39m=\u001b[39m driver\u001b[39m.\u001b[39mfind_element(By\u001b[39m.\u001b[39mCLASS_NAME,\u001b[39m'\u001b[39m\u001b[39mjobs-search__results-list\u001b[39m\u001b[39m'\u001b[39m)\u001b[39m.\u001b[39mfind_elements(By\u001b[39m.\u001b[39mTAG_NAME,\u001b[39m'\u001b[39m\u001b[39mspan\u001b[39m\u001b[39m'\u001b[39m)\n",
      "File \u001b[1;32mc:\\Users\\saike\\OneDrive\\Desktop\\projects\\Projects\\LinkedIn_Webscraper\\practice\\Lib\\site-packages\\selenium\\webdriver\\remote\\webdriver.py:506\u001b[0m, in \u001b[0;36mWebDriver.execute_script\u001b[1;34m(self, script, *args)\u001b[0m\n\u001b[0;32m    503\u001b[0m converted_args \u001b[39m=\u001b[39m \u001b[39mlist\u001b[39m(args)\n\u001b[0;32m    504\u001b[0m command \u001b[39m=\u001b[39m Command\u001b[39m.\u001b[39mW3C_EXECUTE_SCRIPT\n\u001b[1;32m--> 506\u001b[0m \u001b[39mreturn\u001b[39;00m \u001b[39mself\u001b[39;49m\u001b[39m.\u001b[39;49mexecute(command, {\u001b[39m\"\u001b[39;49m\u001b[39mscript\u001b[39;49m\u001b[39m\"\u001b[39;49m: script, \u001b[39m\"\u001b[39;49m\u001b[39margs\u001b[39;49m\u001b[39m\"\u001b[39;49m: converted_args})[\u001b[39m\"\u001b[39m\u001b[39mvalue\u001b[39m\u001b[39m\"\u001b[39m]\n",
      "File \u001b[1;32mc:\\Users\\saike\\OneDrive\\Desktop\\projects\\Projects\\LinkedIn_Webscraper\\practice\\Lib\\site-packages\\selenium\\webdriver\\remote\\webdriver.py:444\u001b[0m, in \u001b[0;36mWebDriver.execute\u001b[1;34m(self, driver_command, params)\u001b[0m\n\u001b[0;32m    442\u001b[0m response \u001b[39m=\u001b[39m \u001b[39mself\u001b[39m\u001b[39m.\u001b[39mcommand_executor\u001b[39m.\u001b[39mexecute(driver_command, params)\n\u001b[0;32m    443\u001b[0m \u001b[39mif\u001b[39;00m response:\n\u001b[1;32m--> 444\u001b[0m     \u001b[39mself\u001b[39;49m\u001b[39m.\u001b[39;49merror_handler\u001b[39m.\u001b[39;49mcheck_response(response)\n\u001b[0;32m    445\u001b[0m     response[\u001b[39m\"\u001b[39m\u001b[39mvalue\u001b[39m\u001b[39m\"\u001b[39m] \u001b[39m=\u001b[39m \u001b[39mself\u001b[39m\u001b[39m.\u001b[39m_unwrap_value(response\u001b[39m.\u001b[39mget(\u001b[39m\"\u001b[39m\u001b[39mvalue\u001b[39m\u001b[39m\"\u001b[39m, \u001b[39mNone\u001b[39;00m))\n\u001b[0;32m    446\u001b[0m     \u001b[39mreturn\u001b[39;00m response\n",
      "File \u001b[1;32mc:\\Users\\saike\\OneDrive\\Desktop\\projects\\Projects\\LinkedIn_Webscraper\\practice\\Lib\\site-packages\\selenium\\webdriver\\remote\\errorhandler.py:249\u001b[0m, in \u001b[0;36mErrorHandler.check_response\u001b[1;34m(self, response)\u001b[0m\n\u001b[0;32m    247\u001b[0m         alert_text \u001b[39m=\u001b[39m value[\u001b[39m\"\u001b[39m\u001b[39malert\u001b[39m\u001b[39m\"\u001b[39m]\u001b[39m.\u001b[39mget(\u001b[39m\"\u001b[39m\u001b[39mtext\u001b[39m\u001b[39m\"\u001b[39m)\n\u001b[0;32m    248\u001b[0m     \u001b[39mraise\u001b[39;00m exception_class(message, screen, stacktrace, alert_text)  \u001b[39m# type: ignore[call-arg]  # mypy is not smart enough here\u001b[39;00m\n\u001b[1;32m--> 249\u001b[0m \u001b[39mraise\u001b[39;00m exception_class(message, screen, stacktrace)\n",
      "\u001b[1;31mNoSuchWindowException\u001b[0m: Message: no such window: target window already closed\nfrom unknown error: web view not found\n  (Session info: chrome=109.0.5414.74)\nStacktrace:\nBacktrace:\n\t(No symbol) [0x00966643]\n\t(No symbol) [0x008FBE21]\n\t(No symbol) [0x007FDA9D]\n\t(No symbol) [0x007DEF6A]\n\t(No symbol) [0x00853AAB]\n\t(No symbol) [0x008661B6]\n\t(No symbol) [0x0084FB76]\n\t(No symbol) [0x008249C1]\n\t(No symbol) [0x00825E5D]\n\tGetHandleVerifier [0x00BDA142+2497106]\n\tGetHandleVerifier [0x00C085D3+2686691]\n\tGetHandleVerifier [0x00C0BB9C+2700460]\n\tGetHandleVerifier [0x00A13B10+635936]\n\t(No symbol) [0x00904A1F]\n\t(No symbol) [0x0090A418]\n\t(No symbol) [0x0090A505]\n\t(No symbol) [0x0091508B]\n\tBaseThreadInitThunk [0x75606BD9+25]\n\tRtlGetFullPathName_UEx [0x77388FD2+1218]\n\tRtlGetFullPathName_UEx [0x77388F9D+1165]\n"
     ]
    }
   ],
   "source": [
    "Driver_path =  './chromedriver.exe'\n",
    "driver = webdriver.Chrome(executable_path=Driver_path)\n",
    "search_item = \"Easy apply Data Engineering\"\n",
    "search_item = search_item.replace(\" \",\"-\")+\"-jobs\"\n",
    "complete_url = \"https://www.linkedin.com/jobs/\"+search_item\n",
    "driver.get(complete_url)\n",
    "time.sleep(2)\n",
    "\n",
    "#Logging in \n",
    "clicking_sign_in = driver.find_element(By.PARTIAL_LINK_TEXT,\"Sign in\").click()\n",
    "time.sleep(2)\n",
    "username = \"\"\n",
    "password = \"\"\n",
    "\n",
    "entering_username = driver.find_element(By.ID,\"username\").send_keys(username)\n",
    "entering_password = driver.find_element(By.ID,\"username\").send_keys(password)\n",
    "\n",
    "click_login = driver.find_element(By.CLASS_NAME,\"btn__primary--large from__button--floating\").click()\n",
    "time.sleep(3) \n",
    "#Logging in closed\n",
    "\n",
    "#Fetching details start\n",
    "for i in range(2):\n",
    "    driver.execute_script(\"window.scrollTo(0,document.body.scrollHeight)\")\n",
    "    time.sleep(3)\n",
    "\n",
    "job_names = driver.find_element(By.CLASS_NAME,'jobs-search__results-list').find_elements(By.TAG_NAME,'span')\n",
    "job_names_list = [job_name.text for job_name in job_names]\n",
    "\n",
    "company_names = driver.find_element(By.CLASS_NAME,'jobs-search__results-list').find_elements(By.TAG_NAME,'a')\n",
    "company_names_list = [job_location.text for job_location in company_names]\n",
    "\n",
    "job_links = driver.find_element(By.CLASS_NAME,'jobs-search__results-list').find_elements(By.TAG_NAME,'a')\n",
    "job_links_list = [job_link.get_attribute('href') for job_link in job_links]\n",
    "\n",
    "\n",
    "final_jobs = [jobs for jobs in job_names_list if \"Actively\" not in jobs and \"$\" not in jobs and \"insurance\" not in jobs.lower() and \"Be an early applicant\" not in jobs]\n"
   ]
  },
  {
   "cell_type": "code",
   "execution_count": 18,
   "metadata": {},
   "outputs": [],
   "source": [
    "job_name = []\n",
    "place = []\n",
    "for job in range(len(final_jobs)):\n",
    "    if(job%2 == 0):\n",
    "        job_name.append(final_jobs[job])\n",
    "    else:\n",
    "        place.append(final_jobs[job])"
   ]
  },
  {
   "cell_type": "code",
   "execution_count": 19,
   "metadata": {},
   "outputs": [],
   "source": [
    "company_name = []\n",
    "for company in range(len(company_names_list)):\n",
    "    if(company%2 != 0):\n",
    "        company_name.append(company_names_list[company])\n",
    "    "
   ]
  },
  {
   "cell_type": "code",
   "execution_count": 20,
   "metadata": {},
   "outputs": [],
   "source": [
    "job_apply_link = []\n",
    "company_link = []\n",
    "for link in range(len(job_links_list)):\n",
    "    if(link %2 == 0):\n",
    "        job_apply_link.append(job_links_list[link])\n",
    "    else:\n",
    "        company_link.append(job_links_list[link])\n"
   ]
  },
  {
   "attachments": {},
   "cell_type": "markdown",
   "metadata": {},
   "source": [
    "job_apply_link has the links of the job : type = list\n",
    "\n",
    "company_link has the link of the company offering the job : type = list\n",
    "\n",
    "company_name has the names of the company : type = list\n",
    "\n",
    "job_name has the name of the job : type = list\n",
    "\n",
    "place has the location of the job : type = list"
   ]
  },
  {
   "cell_type": "code",
   "execution_count": 21,
   "metadata": {},
   "outputs": [
    {
     "name": "stdout",
     "output_type": "stream",
     "text": [
      "CSV File successfully created\n"
     ]
    }
   ],
   "source": [
    "file_name = \"jobs.csv\"\n",
    "data = list(zip(job_name,company_name,place,job_apply_link,company_link))\n",
    "with open(file_name, 'w', newline = '') as csvfile:\n",
    "    csvwriter = csv.writer(csvfile)\n",
    "    csvwriter.writerow(['Job Title', 'Company_name ','Location','Job Applicaiton Link','Company Link'])\n",
    "    csvwriter.writerows(data)\n",
    "\n",
    "print(\"CSV File successfully created\")"
   ]
  },
  {
   "cell_type": "code",
   "execution_count": 22,
   "metadata": {},
   "outputs": [
    {
     "data": {
      "text/html": [
       "<div>\n",
       "<style scoped>\n",
       "    .dataframe tbody tr th:only-of-type {\n",
       "        vertical-align: middle;\n",
       "    }\n",
       "\n",
       "    .dataframe tbody tr th {\n",
       "        vertical-align: top;\n",
       "    }\n",
       "\n",
       "    .dataframe thead th {\n",
       "        text-align: right;\n",
       "    }\n",
       "</style>\n",
       "<table border=\"1\" class=\"dataframe\">\n",
       "  <thead>\n",
       "    <tr style=\"text-align: right;\">\n",
       "      <th></th>\n",
       "      <th>Job Title</th>\n",
       "      <th>Company_name</th>\n",
       "      <th>Location</th>\n",
       "      <th>Job Applicaiton Link</th>\n",
       "      <th>Company Link</th>\n",
       "    </tr>\n",
       "  </thead>\n",
       "  <tbody>\n",
       "    <tr>\n",
       "      <th>0</th>\n",
       "      <td>Frontend Engineer Intern</td>\n",
       "      <td>Taboola</td>\n",
       "      <td>Los Angeles, CA</td>\n",
       "      <td>https://www.linkedin.com/jobs/view/frontend-en...</td>\n",
       "      <td>https://www.linkedin.com/company/taboola?trk=p...</td>\n",
       "    </tr>\n",
       "    <tr>\n",
       "      <th>1</th>\n",
       "      <td>Junior Web Developer - Full Stack</td>\n",
       "      <td>Couple</td>\n",
       "      <td>Basking Ridge, NJ</td>\n",
       "      <td>https://www.linkedin.com/jobs/view/junior-web-...</td>\n",
       "      <td>https://www.linkedin.com/company/couple-inc?tr...</td>\n",
       "    </tr>\n",
       "    <tr>\n",
       "      <th>2</th>\n",
       "      <td>Software Engineering Intern (Summer 2023)</td>\n",
       "      <td>Cohesity</td>\n",
       "      <td>United States</td>\n",
       "      <td>https://www.linkedin.com/jobs/view/software-en...</td>\n",
       "      <td>https://www.linkedin.com/company/cohesity?trk=...</td>\n",
       "    </tr>\n",
       "    <tr>\n",
       "      <th>3</th>\n",
       "      <td>Data Analyst</td>\n",
       "      <td>Notarize</td>\n",
       "      <td>United States</td>\n",
       "      <td>https://www.linkedin.com/jobs/view/data-analys...</td>\n",
       "      <td>https://www.linkedin.com/company/notarize?trk=...</td>\n",
       "    </tr>\n",
       "    <tr>\n",
       "      <th>4</th>\n",
       "      <td>Software Engineer</td>\n",
       "      <td>Federal Bureau of Investigation (FBI)</td>\n",
       "      <td>Washington DC-Baltimore Area</td>\n",
       "      <td>https://www.linkedin.com/jobs/view/software-en...</td>\n",
       "      <td>https://www.linkedin.com/company/fbi?trk=publi...</td>\n",
       "    </tr>\n",
       "    <tr>\n",
       "      <th>...</th>\n",
       "      <td>...</td>\n",
       "      <td>...</td>\n",
       "      <td>...</td>\n",
       "      <td>...</td>\n",
       "      <td>...</td>\n",
       "    </tr>\n",
       "    <tr>\n",
       "      <th>70</th>\n",
       "      <td>Associate Software Engineer</td>\n",
       "      <td>ResMed</td>\n",
       "      <td>San Diego, CA</td>\n",
       "      <td>https://www.linkedin.com/jobs/view/associate-s...</td>\n",
       "      <td>https://www.linkedin.com/company/resmed?trk=pu...</td>\n",
       "    </tr>\n",
       "    <tr>\n",
       "      <th>71</th>\n",
       "      <td>Software Engineer - Seattle</td>\n",
       "      <td>Rokt</td>\n",
       "      <td>Seattle, WA</td>\n",
       "      <td>https://www.linkedin.com/jobs/view/software-en...</td>\n",
       "      <td>https://www.linkedin.com/company/rokt?trk=publ...</td>\n",
       "    </tr>\n",
       "    <tr>\n",
       "      <th>72</th>\n",
       "      <td>Customer Support Manager</td>\n",
       "      <td>UpLead</td>\n",
       "      <td>Los Angeles, CA</td>\n",
       "      <td>https://www.linkedin.com/jobs/view/customer-su...</td>\n",
       "      <td>https://www.linkedin.com/company/uplead-com?tr...</td>\n",
       "    </tr>\n",
       "    <tr>\n",
       "      <th>73</th>\n",
       "      <td>Software Engineer (Backend)</td>\n",
       "      <td>Pace</td>\n",
       "      <td>New York, NY</td>\n",
       "      <td>https://www.linkedin.com/jobs/view/software-en...</td>\n",
       "      <td>https://www.linkedin.com/company/meetpace?trk=...</td>\n",
       "    </tr>\n",
       "    <tr>\n",
       "      <th>74</th>\n",
       "      <td>Software Engineer</td>\n",
       "      <td>Freshpaint</td>\n",
       "      <td>United States</td>\n",
       "      <td>https://www.linkedin.com/jobs/view/software-en...</td>\n",
       "      <td>https://www.linkedin.com/company/freshpaint-da...</td>\n",
       "    </tr>\n",
       "  </tbody>\n",
       "</table>\n",
       "<p>75 rows × 5 columns</p>\n",
       "</div>"
      ],
      "text/plain": [
       "                                    Job Title  \\\n",
       "0                    Frontend Engineer Intern   \n",
       "1           Junior Web Developer - Full Stack   \n",
       "2   Software Engineering Intern (Summer 2023)   \n",
       "3                                Data Analyst   \n",
       "4                           Software Engineer   \n",
       "..                                        ...   \n",
       "70                Associate Software Engineer   \n",
       "71                Software Engineer - Seattle   \n",
       "72                   Customer Support Manager   \n",
       "73                Software Engineer (Backend)   \n",
       "74                          Software Engineer   \n",
       "\n",
       "                            Company_name                       Location  \\\n",
       "0                                 Taboola               Los Angeles, CA   \n",
       "1                                  Couple             Basking Ridge, NJ   \n",
       "2                                Cohesity                 United States   \n",
       "3                                Notarize                 United States   \n",
       "4   Federal Bureau of Investigation (FBI)  Washington DC-Baltimore Area   \n",
       "..                                    ...                           ...   \n",
       "70                                 ResMed                 San Diego, CA   \n",
       "71                                   Rokt                   Seattle, WA   \n",
       "72                                 UpLead               Los Angeles, CA   \n",
       "73                                   Pace                  New York, NY   \n",
       "74                             Freshpaint                 United States   \n",
       "\n",
       "                                 Job Applicaiton Link  \\\n",
       "0   https://www.linkedin.com/jobs/view/frontend-en...   \n",
       "1   https://www.linkedin.com/jobs/view/junior-web-...   \n",
       "2   https://www.linkedin.com/jobs/view/software-en...   \n",
       "3   https://www.linkedin.com/jobs/view/data-analys...   \n",
       "4   https://www.linkedin.com/jobs/view/software-en...   \n",
       "..                                                ...   \n",
       "70  https://www.linkedin.com/jobs/view/associate-s...   \n",
       "71  https://www.linkedin.com/jobs/view/software-en...   \n",
       "72  https://www.linkedin.com/jobs/view/customer-su...   \n",
       "73  https://www.linkedin.com/jobs/view/software-en...   \n",
       "74  https://www.linkedin.com/jobs/view/software-en...   \n",
       "\n",
       "                                         Company Link  \n",
       "0   https://www.linkedin.com/company/taboola?trk=p...  \n",
       "1   https://www.linkedin.com/company/couple-inc?tr...  \n",
       "2   https://www.linkedin.com/company/cohesity?trk=...  \n",
       "3   https://www.linkedin.com/company/notarize?trk=...  \n",
       "4   https://www.linkedin.com/company/fbi?trk=publi...  \n",
       "..                                                ...  \n",
       "70  https://www.linkedin.com/company/resmed?trk=pu...  \n",
       "71  https://www.linkedin.com/company/rokt?trk=publ...  \n",
       "72  https://www.linkedin.com/company/uplead-com?tr...  \n",
       "73  https://www.linkedin.com/company/meetpace?trk=...  \n",
       "74  https://www.linkedin.com/company/freshpaint-da...  \n",
       "\n",
       "[75 rows x 5 columns]"
      ]
     },
     "execution_count": 22,
     "metadata": {},
     "output_type": "execute_result"
    }
   ],
   "source": [
    "df = pd.read_csv(open(\"./jobs.csv\"))\n",
    "df"
   ]
  },
  {
   "cell_type": "code",
   "execution_count": null,
   "metadata": {},
   "outputs": [],
   "source": [
    "Skills - Button "
   ]
  }
 ],
 "metadata": {
  "kernelspec": {
   "display_name": "practice",
   "language": "python",
   "name": "python3"
  },
  "language_info": {
   "codemirror_mode": {
    "name": "ipython",
    "version": 3
   },
   "file_extension": ".py",
   "mimetype": "text/x-python",
   "name": "python",
   "nbconvert_exporter": "python",
   "pygments_lexer": "ipython3",
   "version": "3.11.0"
  },
  "orig_nbformat": 4,
  "vscode": {
   "interpreter": {
    "hash": "3bc87c95aed6b8cba18a160c7b5e078ef100120c0efa438febe405f9207addd0"
   }
  }
 },
 "nbformat": 4,
 "nbformat_minor": 2
}
