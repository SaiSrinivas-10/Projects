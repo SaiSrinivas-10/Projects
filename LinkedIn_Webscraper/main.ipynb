{
 "cells": [
  {
   "cell_type": "code",
   "execution_count": 1,
   "metadata": {},
   "outputs": [
    {
     "name": "stdout",
     "output_type": "stream",
     "text": [
      "Requirement already satisfied: selenium==4.7.2 in c:\\users\\saike\\onedrive\\desktop\\projects\\projects\\linkedin_webscraper\\practice\\lib\\site-packages (from -r requirements.txt (line 1)) (4.7.2)\n",
      "Requirement already satisfied: matplotlib==3.6.3 in c:\\users\\saike\\onedrive\\desktop\\projects\\projects\\linkedin_webscraper\\practice\\lib\\site-packages (from -r requirements.txt (line 2)) (3.6.3)\n",
      "Requirement already satisfied: Counter==1.0.0 in c:\\users\\saike\\onedrive\\desktop\\projects\\projects\\linkedin_webscraper\\practice\\lib\\site-packages (from -r requirements.txt (line 3)) (1.0.0)\n",
      "Requirement already satisfied: gradio==3.16.1 in c:\\users\\saike\\onedrive\\desktop\\projects\\projects\\linkedin_webscraper\\practice\\lib\\site-packages (from -r requirements.txt (line 4)) (3.16.1)\n",
      "Requirement already satisfied: openai==0.26.1 in c:\\users\\saike\\onedrive\\desktop\\projects\\projects\\linkedin_webscraper\\practice\\lib\\site-packages (from -r requirements.txt (line 5)) (0.26.1)\n",
      "Collecting pycopy-webbrowser==0.0.0\n",
      "  Using cached pycopy-webbrowser-0.0.0.tar.gz (631 bytes)\n",
      "Note: you may need to restart the kernel to use updated packages.\n"
     ]
    },
    {
     "name": "stderr",
     "output_type": "stream",
     "text": [
      "ERROR: pycopy-webbrowser==0.0.0 from https://files.pythonhosted.org/packages/40/6f/3534aa5470f69aede4ec969a4f64981892e5bd838ea8e148d8d7ee52f1bc/pycopy-webbrowser-0.0.0.tar.gz (from -r requirements.txt (line 6)) does not appear to be a Python project: neither 'setup.py' nor 'pyproject.toml' found.\n",
      "\n",
      "[notice] A new release of pip available: 22.3 -> 22.3.1\n",
      "[notice] To update, run: python.exe -m pip install --upgrade pip\n"
     ]
    }
   ],
   "source": [
    "pip install -r requirements.txt"
   ]
  },
  {
   "cell_type": "code",
   "execution_count": 2,
   "metadata": {},
   "outputs": [],
   "source": [
    "from selenium import webdriver\n",
    "from selenium.webdriver.common.by import By\n",
    "from selenium.webdriver.common.keys import Keys\n",
    "import time\n",
    "import os\n",
    "from selenium.common.exceptions import NoSuchElementException, ElementClickInterceptedException\n",
    "import csv\n",
    "import pandas as pd\n",
    "import webbrowser\n",
    "import matplotlib.pyplot as plt\n",
    "from collections import Counter\n",
    "import requests"
   ]
  },
  {
   "cell_type": "code",
   "execution_count": 54,
   "metadata": {},
   "outputs": [
    {
     "name": "stdout",
     "output_type": "stream",
     "text": [
      "env: JOB_DESC=\n",
      "env: USERNAME=\n",
      "env: PASSWORD=\n",
      "env: API_KEY=\n"
     ]
    }
   ],
   "source": [
    "%env JOB_DESC =  \n",
    "%env USERNAME =  \n",
    "%env PASSWORD = \n",
    "%env API_KEY = "
   ]
  },
  {
   "cell_type": "code",
   "execution_count": 34,
   "metadata": {},
   "outputs": [
    {
     "name": "stderr",
     "output_type": "stream",
     "text": [
      "C:\\Users\\saike\\AppData\\Local\\Temp\\ipykernel_138396\\260211939.py:2: DeprecationWarning: executable_path has been deprecated, please pass in a Service object\n",
      "  driver = webdriver.Chrome(executable_path=Driver_path)\n"
     ]
    }
   ],
   "source": [
    "Driver_path =  './chromedriver.exe'\n",
    "driver = webdriver.Chrome(executable_path=Driver_path)\n",
    "search_item = os.environ['JOB_DESC']\n",
    "search_item = search_item.replace(\" \",\"-\")+\"-jobs\"\n",
    "complete_url = \"https://www.linkedin.com/jobs/\"+search_item\n",
    "driver.get(complete_url)\n",
    "time.sleep(2)\n",
    "\n",
    "\n",
    "#Fetching details start\n",
    "\n",
    "#scrolling the website -- increase the range number if you want more companies\n",
    "# for i in range(2):\n",
    "#     driver.execute_script(\"window.scrollTo(0,document.body.scrollHeight)\")\n",
    "#     time.sleep(3)\n",
    "\n",
    "job_names = driver.find_element(By.CLASS_NAME,'jobs-search__results-list').find_elements(By.TAG_NAME,'span')\n",
    "job_names_list = [job_name.text for job_name in job_names]\n",
    "final_jobs = [jobs for jobs in job_names_list if \"Actively\" not in jobs and \"$\" not in jobs and \"insurance\" not in jobs.lower() and \"Be an early applicant\" not in jobs]\n",
    "\n",
    "company_names = driver.find_element(By.CLASS_NAME,'jobs-search__results-list').find_elements(By.TAG_NAME,'a')\n",
    "company_names_list = [job_location.text for job_location in company_names]\n",
    "\n",
    "job_links = driver.find_element(By.CLASS_NAME,'jobs-search__results-list').find_elements(By.TAG_NAME,'a')\n",
    "job_links_list = [job_link.get_attribute('href').strip() for job_link in job_links]\n",
    "\n",
    "#Fetched the data\n",
    "\n",
    "#Logging in : We are logging in to fetch the skills of the companies. You cannot see the skills if you do not login\n",
    "clicking_sign_in = driver.find_element(By.PARTIAL_LINK_TEXT,\"Sign in\").click()\n",
    "time.sleep(2)\n",
    "username = os.environ['USERNAME']\n",
    "password = os.environ['PASSWORD']\n",
    "\n",
    "driver.find_element(By.ID,\"username\").send_keys(username)\n",
    "driver.find_element(By.ID,\"password\").send_keys(password)\n",
    "driver.find_element(By.XPATH,\"//button[text() = 'Sign in']\").click()\n",
    "\n",
    "time.sleep(3) \n",
    "#Logging in closed\n"
   ]
  },
  {
   "cell_type": "code",
   "execution_count": 35,
   "metadata": {},
   "outputs": [],
   "source": [
    "#Seperating Job name and location from final_jobs array\n",
    "\n",
    "job_name = []\n",
    "place = []\n",
    "for job in range(len(final_jobs)):\n",
    "    if(job%2 == 0):\n",
    "        job_name.append(final_jobs[job])\n",
    "    else:\n",
    "        place.append(final_jobs[job])"
   ]
  },
  {
   "cell_type": "code",
   "execution_count": 36,
   "metadata": {},
   "outputs": [],
   "source": [
    "#Seperating compnay name from company_names_list\n",
    "\n",
    "company_name = []\n",
    "for company in range(len(company_names_list)):\n",
    "    if(company%2 != 0):\n",
    "        company_name.append(company_names_list[company])\n",
    "    "
   ]
  },
  {
   "cell_type": "code",
   "execution_count": 37,
   "metadata": {},
   "outputs": [],
   "source": [
    "#Seperating job link and company link from job_links_list \n",
    "\n",
    "job_apply_link = []\n",
    "for link in range(len(job_links_list)):\n",
    "    if(link %2 == 0):\n",
    "        job_apply_link.append(job_links_list[link])\n"
   ]
  },
  {
   "attachments": {},
   "cell_type": "markdown",
   "metadata": {},
   "source": [
    "job_apply_link has the links of the job : type = list\n",
    "\n",
    "company_name has the names of the company : type = list\n",
    "\n",
    "job_name has the name of the job : type = list\n",
    "\n",
    "place has the location of the job : type = list"
   ]
  },
  {
   "cell_type": "code",
   "execution_count": 38,
   "metadata": {},
   "outputs": [
    {
     "name": "stdout",
     "output_type": "stream",
     "text": [
      "CSV File successfully created\n"
     ]
    }
   ],
   "source": [
    "#Writing data into jobs.csv\n",
    "\n",
    "file_name = \"jobs.csv\"\n",
    "data = list(zip(job_name,company_name,place,job_apply_link))\n",
    "with open(file_name, 'w', newline = '') as csvfile:\n",
    "    csvwriter = csv.writer(csvfile)\n",
    "    csvwriter.writerow(['Job Title', 'Company_name ','Location','Job Applicaiton Link'])\n",
    "    csvwriter.writerows(data)\n",
    "\n",
    "print(\"CSV File successfully created\")"
   ]
  },
  {
   "cell_type": "code",
   "execution_count": 39,
   "metadata": {},
   "outputs": [
    {
     "data": {
      "text/html": [
       "<div>\n",
       "<style scoped>\n",
       "    .dataframe tbody tr th:only-of-type {\n",
       "        vertical-align: middle;\n",
       "    }\n",
       "\n",
       "    .dataframe tbody tr th {\n",
       "        vertical-align: top;\n",
       "    }\n",
       "\n",
       "    .dataframe thead th {\n",
       "        text-align: right;\n",
       "    }\n",
       "</style>\n",
       "<table border=\"1\" class=\"dataframe\">\n",
       "  <thead>\n",
       "    <tr style=\"text-align: right;\">\n",
       "      <th></th>\n",
       "      <th>Job Title</th>\n",
       "      <th>Company_name</th>\n",
       "      <th>Location</th>\n",
       "      <th>Job Applicaiton Link</th>\n",
       "    </tr>\n",
       "  </thead>\n",
       "  <tbody>\n",
       "    <tr>\n",
       "      <th>0</th>\n",
       "      <td>Data Analyst</td>\n",
       "      <td>Finexio</td>\n",
       "      <td>United States</td>\n",
       "      <td>https://www.linkedin.com/jobs/view/data-analys...</td>\n",
       "    </tr>\n",
       "    <tr>\n",
       "      <th>1</th>\n",
       "      <td>Data Analyst</td>\n",
       "      <td>PointsBet</td>\n",
       "      <td>Denver, CO</td>\n",
       "      <td>https://www.linkedin.com/jobs/view/data-analys...</td>\n",
       "    </tr>\n",
       "    <tr>\n",
       "      <th>2</th>\n",
       "      <td>Junior Data Analyst - 100% Remote</td>\n",
       "      <td>Visionaire Partners</td>\n",
       "      <td>Norcross, GA</td>\n",
       "      <td>https://www.linkedin.com/jobs/view/junior-data...</td>\n",
       "    </tr>\n",
       "    <tr>\n",
       "      <th>3</th>\n",
       "      <td>Data Analyst</td>\n",
       "      <td>Holmusk</td>\n",
       "      <td>United States</td>\n",
       "      <td>https://www.linkedin.com/jobs/view/data-analys...</td>\n",
       "    </tr>\n",
       "    <tr>\n",
       "      <th>4</th>\n",
       "      <td>Data Analyst</td>\n",
       "      <td>Correctional Association of New York</td>\n",
       "      <td>New York City Metropolitan Area</td>\n",
       "      <td>https://www.linkedin.com/jobs/view/data-analys...</td>\n",
       "    </tr>\n",
       "    <tr>\n",
       "      <th>5</th>\n",
       "      <td>Junior Data Analyst</td>\n",
       "      <td>CCS Global Tech</td>\n",
       "      <td>San Francisco, CA</td>\n",
       "      <td>https://www.linkedin.com/jobs/view/junior-data...</td>\n",
       "    </tr>\n",
       "    <tr>\n",
       "      <th>6</th>\n",
       "      <td>Data Analyst</td>\n",
       "      <td>LeadStack Inc.</td>\n",
       "      <td>United States</td>\n",
       "      <td>https://www.linkedin.com/jobs/view/data-analys...</td>\n",
       "    </tr>\n",
       "    <tr>\n",
       "      <th>7</th>\n",
       "      <td>Data Analyst</td>\n",
       "      <td>SpringbokIT</td>\n",
       "      <td>Texas, United States</td>\n",
       "      <td>https://www.linkedin.com/jobs/view/data-analys...</td>\n",
       "    </tr>\n",
       "    <tr>\n",
       "      <th>8</th>\n",
       "      <td>Data Analyst</td>\n",
       "      <td>Medalogix</td>\n",
       "      <td>United States</td>\n",
       "      <td>https://www.linkedin.com/jobs/view/data-analys...</td>\n",
       "    </tr>\n",
       "    <tr>\n",
       "      <th>9</th>\n",
       "      <td>Data Analyst</td>\n",
       "      <td>Insight Global</td>\n",
       "      <td>Los Angeles Metropolitan Area</td>\n",
       "      <td>https://www.linkedin.com/jobs/view/data-analys...</td>\n",
       "    </tr>\n",
       "    <tr>\n",
       "      <th>10</th>\n",
       "      <td>Data Analyst</td>\n",
       "      <td>The Vets</td>\n",
       "      <td>Miami, FL</td>\n",
       "      <td>https://www.linkedin.com/jobs/view/data-analys...</td>\n",
       "    </tr>\n",
       "    <tr>\n",
       "      <th>11</th>\n",
       "      <td>Data Analyst</td>\n",
       "      <td>ALTEN</td>\n",
       "      <td>Austin, TX</td>\n",
       "      <td>https://www.linkedin.com/jobs/view/data-analys...</td>\n",
       "    </tr>\n",
       "    <tr>\n",
       "      <th>12</th>\n",
       "      <td>Associate Data Analyst</td>\n",
       "      <td>iHeartMedia</td>\n",
       "      <td>Texas, United States</td>\n",
       "      <td>https://www.linkedin.com/jobs/view/associate-d...</td>\n",
       "    </tr>\n",
       "    <tr>\n",
       "      <th>13</th>\n",
       "      <td>Data Analyst</td>\n",
       "      <td>Insight Global</td>\n",
       "      <td>Los Angeles, CA</td>\n",
       "      <td>https://www.linkedin.com/jobs/view/data-analys...</td>\n",
       "    </tr>\n",
       "    <tr>\n",
       "      <th>14</th>\n",
       "      <td>Data Analyst</td>\n",
       "      <td>At-Bay</td>\n",
       "      <td>New York, NY</td>\n",
       "      <td>https://www.linkedin.com/jobs/view/data-analys...</td>\n",
       "    </tr>\n",
       "    <tr>\n",
       "      <th>15</th>\n",
       "      <td>Data Analyst</td>\n",
       "      <td>Robert Half</td>\n",
       "      <td>Greater Philadelphia</td>\n",
       "      <td>https://www.linkedin.com/jobs/view/data-analys...</td>\n",
       "    </tr>\n",
       "    <tr>\n",
       "      <th>16</th>\n",
       "      <td>Data Analyst</td>\n",
       "      <td>Insight Global</td>\n",
       "      <td>Los Angeles, CA</td>\n",
       "      <td>https://www.linkedin.com/jobs/view/data-analys...</td>\n",
       "    </tr>\n",
       "    <tr>\n",
       "      <th>17</th>\n",
       "      <td>Data Analyst</td>\n",
       "      <td>Technman Consulting</td>\n",
       "      <td>Fremont, CA</td>\n",
       "      <td>https://www.linkedin.com/jobs/view/data-analys...</td>\n",
       "    </tr>\n",
       "    <tr>\n",
       "      <th>18</th>\n",
       "      <td>Data Analyst</td>\n",
       "      <td>The Ford Agency</td>\n",
       "      <td>Arlington, VA</td>\n",
       "      <td>https://www.linkedin.com/jobs/view/data-analys...</td>\n",
       "    </tr>\n",
       "    <tr>\n",
       "      <th>19</th>\n",
       "      <td>Data Analyst</td>\n",
       "      <td>Ascendo Resources</td>\n",
       "      <td>Tampa, FL</td>\n",
       "      <td>https://www.linkedin.com/jobs/view/data-analys...</td>\n",
       "    </tr>\n",
       "    <tr>\n",
       "      <th>20</th>\n",
       "      <td>Data Analyst</td>\n",
       "      <td>Ford Motor Company</td>\n",
       "      <td>United States</td>\n",
       "      <td>https://www.linkedin.com/jobs/view/data-analys...</td>\n",
       "    </tr>\n",
       "    <tr>\n",
       "      <th>21</th>\n",
       "      <td>Data Analyst</td>\n",
       "      <td>The Trevor Project</td>\n",
       "      <td>United States</td>\n",
       "      <td>https://www.linkedin.com/jobs/view/data-analys...</td>\n",
       "    </tr>\n",
       "    <tr>\n",
       "      <th>22</th>\n",
       "      <td>Data Analyst</td>\n",
       "      <td>Eva Garland Consulting, LLC</td>\n",
       "      <td>Raleigh, NC</td>\n",
       "      <td>https://www.linkedin.com/jobs/view/data-analys...</td>\n",
       "    </tr>\n",
       "    <tr>\n",
       "      <th>23</th>\n",
       "      <td>Data Analyst</td>\n",
       "      <td>Connective Talent</td>\n",
       "      <td>Houston, TX</td>\n",
       "      <td>https://www.linkedin.com/jobs/view/data-analys...</td>\n",
       "    </tr>\n",
       "    <tr>\n",
       "      <th>24</th>\n",
       "      <td>Data Analyst</td>\n",
       "      <td>WHOOP</td>\n",
       "      <td>Boston, MA</td>\n",
       "      <td>https://www.linkedin.com/jobs/view/data-analys...</td>\n",
       "    </tr>\n",
       "  </tbody>\n",
       "</table>\n",
       "</div>"
      ],
      "text/plain": [
       "                            Job Title                         Company_name   \\\n",
       "0                        Data Analyst                               Finexio   \n",
       "1                        Data Analyst                             PointsBet   \n",
       "2   Junior Data Analyst - 100% Remote                   Visionaire Partners   \n",
       "3                        Data Analyst                               Holmusk   \n",
       "4                        Data Analyst  Correctional Association of New York   \n",
       "5                 Junior Data Analyst                       CCS Global Tech   \n",
       "6                        Data Analyst                        LeadStack Inc.   \n",
       "7                        Data Analyst                           SpringbokIT   \n",
       "8                        Data Analyst                             Medalogix   \n",
       "9                        Data Analyst                        Insight Global   \n",
       "10                       Data Analyst                              The Vets   \n",
       "11                       Data Analyst                                 ALTEN   \n",
       "12             Associate Data Analyst                           iHeartMedia   \n",
       "13                       Data Analyst                        Insight Global   \n",
       "14                       Data Analyst                                At-Bay   \n",
       "15                       Data Analyst                           Robert Half   \n",
       "16                       Data Analyst                        Insight Global   \n",
       "17                       Data Analyst                   Technman Consulting   \n",
       "18                       Data Analyst                       The Ford Agency   \n",
       "19                       Data Analyst                     Ascendo Resources   \n",
       "20                       Data Analyst                    Ford Motor Company   \n",
       "21                       Data Analyst                    The Trevor Project   \n",
       "22                       Data Analyst           Eva Garland Consulting, LLC   \n",
       "23                       Data Analyst                     Connective Talent   \n",
       "24                       Data Analyst                                 WHOOP   \n",
       "\n",
       "                           Location  \\\n",
       "0                     United States   \n",
       "1                        Denver, CO   \n",
       "2                      Norcross, GA   \n",
       "3                     United States   \n",
       "4   New York City Metropolitan Area   \n",
       "5                 San Francisco, CA   \n",
       "6                     United States   \n",
       "7              Texas, United States   \n",
       "8                     United States   \n",
       "9     Los Angeles Metropolitan Area   \n",
       "10                        Miami, FL   \n",
       "11                       Austin, TX   \n",
       "12             Texas, United States   \n",
       "13                  Los Angeles, CA   \n",
       "14                     New York, NY   \n",
       "15             Greater Philadelphia   \n",
       "16                  Los Angeles, CA   \n",
       "17                      Fremont, CA   \n",
       "18                    Arlington, VA   \n",
       "19                        Tampa, FL   \n",
       "20                    United States   \n",
       "21                    United States   \n",
       "22                      Raleigh, NC   \n",
       "23                      Houston, TX   \n",
       "24                       Boston, MA   \n",
       "\n",
       "                                 Job Applicaiton Link  \n",
       "0   https://www.linkedin.com/jobs/view/data-analys...  \n",
       "1   https://www.linkedin.com/jobs/view/data-analys...  \n",
       "2   https://www.linkedin.com/jobs/view/junior-data...  \n",
       "3   https://www.linkedin.com/jobs/view/data-analys...  \n",
       "4   https://www.linkedin.com/jobs/view/data-analys...  \n",
       "5   https://www.linkedin.com/jobs/view/junior-data...  \n",
       "6   https://www.linkedin.com/jobs/view/data-analys...  \n",
       "7   https://www.linkedin.com/jobs/view/data-analys...  \n",
       "8   https://www.linkedin.com/jobs/view/data-analys...  \n",
       "9   https://www.linkedin.com/jobs/view/data-analys...  \n",
       "10  https://www.linkedin.com/jobs/view/data-analys...  \n",
       "11  https://www.linkedin.com/jobs/view/data-analys...  \n",
       "12  https://www.linkedin.com/jobs/view/associate-d...  \n",
       "13  https://www.linkedin.com/jobs/view/data-analys...  \n",
       "14  https://www.linkedin.com/jobs/view/data-analys...  \n",
       "15  https://www.linkedin.com/jobs/view/data-analys...  \n",
       "16  https://www.linkedin.com/jobs/view/data-analys...  \n",
       "17  https://www.linkedin.com/jobs/view/data-analys...  \n",
       "18  https://www.linkedin.com/jobs/view/data-analys...  \n",
       "19  https://www.linkedin.com/jobs/view/data-analys...  \n",
       "20  https://www.linkedin.com/jobs/view/data-analys...  \n",
       "21  https://www.linkedin.com/jobs/view/data-analys...  \n",
       "22  https://www.linkedin.com/jobs/view/data-analys...  \n",
       "23  https://www.linkedin.com/jobs/view/data-analys...  \n",
       "24  https://www.linkedin.com/jobs/view/data-analys...  "
      ]
     },
     "execution_count": 39,
     "metadata": {},
     "output_type": "execute_result"
    }
   ],
   "source": [
    "dataframe = pd.read_csv(open(\"./jobs.csv\"))\n",
    "dataframe"
   ]
  },
  {
   "cell_type": "code",
   "execution_count": 40,
   "metadata": {},
   "outputs": [],
   "source": [
    "#Fetching skills that are posted in the job description\n",
    "\n",
    "complete_skills = []\n",
    "\n",
    "for skills_counter in range(len(job_apply_link)):\n",
    "# for skills_counter in range(3): #Testing for smaller values\n",
    "\n",
    "    driver.get(job_apply_link[skills_counter])\n",
    "    time.sleep(2)\n",
    "    if(driver.find_element(By.CLASS_NAME,\"jobs-unified-top-card__job-insight-text-button\").is_displayed()):\n",
    "        driver.find_element(By.CLASS_NAME,\"jobs-unified-top-card__job-insight-text-button\").click()\n",
    "        time.sleep(2)\n",
    "\n",
    "        skills_fetched = driver.find_element(By.CLASS_NAME,'job-details-skill-match-status-list').find_elements(By.TAG_NAME,'li')\n",
    "        skills = [skill.text.replace(\"\\nAdd\",\"\") for skill in skills_fetched]\n",
    "\n",
    "        for skill in skills:\n",
    "            complete_skills.append(skill)\n",
    "    else:\n",
    "        pass\n",
    "\n"
   ]
  },
  {
   "attachments": {},
   "cell_type": "markdown",
   "metadata": {},
   "source": [
    "All the skills are present in the array  - complete_skills"
   ]
  },
  {
   "cell_type": "code",
   "execution_count": 41,
   "metadata": {},
   "outputs": [
    {
     "data": {
      "image/png": "[encoded data removed]",
      "text/plain": [
       "<Figure size 5000x400 with 1 Axes>"
      ]
     },
     "metadata": {},
     "output_type": "display_data"
    }
   ],
   "source": [
    "#visualizing the top skills\n",
    "\n",
    "top_skills = dict(Counter(complete_skills).most_common(15))\n",
    "\n",
    "plt.figure(figsize=(50, 4))\n",
    "plt.bar(top_skills.keys(), top_skills.values())\n",
    "plt.xlabel('Skills')\n",
    "plt.ylabel('Count')\n",
    "plt.title('Top 15 Skills')\n",
    "plt.show()"
   ]
  },
  {
   "cell_type": "code",
   "execution_count": 42,
   "metadata": {},
   "outputs": [],
   "source": [
    "sorted_skills_by_freq = sorted(Counter(complete_skills).items(), key=lambda x: x[1], reverse=True)"
   ]
  },
  {
   "cell_type": "code",
   "execution_count": 43,
   "metadata": {},
   "outputs": [],
   "source": [
    "list_of_all_skills = [sorted_skills_by_freq[i][0] for i in range(len(sorted_skills_by_freq))]"
   ]
  },
  {
   "cell_type": "code",
   "execution_count": 44,
   "metadata": {},
   "outputs": [
    {
     "name": "stdout",
     "output_type": "stream",
     "text": [
      "['Data Analysis', 'SQL', 'Analytical Skills', 'Data Analytics', 'Communication', 'Problem Solving', 'Dashboard', 'Analytics', 'Data Science', 'Data Visualization', 'Python (Programming Language)', 'Mathematics', 'Tableau', 'Requirements Gathering', 'Statistics', 'Visualization', 'Databases', 'Data Mining', 'Computer Science', 'Microsoft Excel', 'Pivot Tables', 'Extract, Transform, Load (ETL)', 'Business Analysis', 'Use Case', 'Snowflake', 'Data Collection', 'Microsoft Azure', 'Process Improvement', 'Data Quality', 'Big Data', 'Pandas (Software)', 'Business Insights', 'Data Engineering', 'Key Performance Indicators', 'Attention to Detail', 'Data Management', 'Microsoft Office', 'Data Models', 'Database Design', 'Looker (Software)', 'Performance Measurement', 'Azure Data Lake', 'Azure Databricks', 'Azure DevOps', 'Data Modeling', 'Process Analysis', 'Electronic Health Records (EHR)', 'Informatica', 'Presentation Skills', 'Ad Hoc Analysis', 'Microsoft Power BI', 'Applied Mathematics', 'Machine Learning', 'NumPy', 'SciPy', 'Scikit-Learn', 'XGBoost', 'Query Tuning', 'Query Writing', 'Business Rules', 'Presentations', 'Data Processing', 'Data Warehousing', 'PostgreSQL', 'Key Metrics', 'Metrics Reporting', 'Business Analytics', 'Marketing Analytics', 'Quantitative Analytics', 'R (Programming Language)', 'Data Migration', 'Microsoft SQL Server', 'Programming', 'SQL Server Analysis Services (SSAS)', 'SQL Server Integration Services (SSIS)', 'SQL Server Reporting Services (SSRS)', 'Domo', 'Interpersonal Communication', 'Salesforce.com', 'Business Metrics', 'Data Integrity', 'Data Privacy', 'Ethical Sourcing', 'Job Satisfaction', 'Privacy Policies', 'Secondary Research', 'Statistical Analysis', 'Statistical Analysis Tools', 'Google Sheets', 'Information Technology', 'Logical Approach']\n"
     ]
    }
   ],
   "source": [
    "print(list_of_all_skills)"
   ]
  },
  {
   "attachments": {},
   "cell_type": "markdown",
   "metadata": {},
   "source": [
    "OPEN AI MODULE"
   ]
  },
  {
   "cell_type": "code",
   "execution_count": 45,
   "metadata": {},
   "outputs": [],
   "source": [
    "import openai\n",
    "import gradio as gr "
   ]
  },
  {
   "cell_type": "code",
   "execution_count": 46,
   "metadata": {},
   "outputs": [],
   "source": [
    "openai.api_key = os.environ['API_KEY']"
   ]
  },
  {
   "cell_type": "code",
   "execution_count": 47,
   "metadata": {},
   "outputs": [],
   "source": [
    "def openai_chat(prompt):\n",
    "    completions = openai.Completion.create(\n",
    "        engine = \"text-davinci-003\",\n",
    "        prompt = prompt,\n",
    "        max_tokens = 1024,\n",
    "        n = 1,\n",
    "        temperature = 0.5\n",
    "    )\n",
    "\n",
    "    message = completions.choices[0].text\n",
    "    return message.strip()\n"
   ]
  },
  {
   "cell_type": "code",
   "execution_count": 52,
   "metadata": {},
   "outputs": [],
   "source": [
    "answer = openai_chat(\"Show me links of top 15 websites where I can learn \"+ str(list_of_all_skills[0]) +\", \"+ str(list_of_all_skills[1])+\", \"+str(list_of_all_skills[2]) +\" for free\")"
   ]
  },
  {
   "cell_type": "code",
   "execution_count": 53,
   "metadata": {},
   "outputs": [
    {
     "name": "stdout",
     "output_type": "stream",
     "text": [
      "-------------------------------------------------------------------------------------------------------------------\n",
      "-------------------------------------------------------------------------------------------------------------------\n",
      "You can learn the top 3 skills for Data Analyst from the following websites: \n",
      "-------------------------------------------------------------------------------------------------------------------\n",
      "-------------------------------------------------------------------------------------------------------------------\n"
     ]
    },
    {
     "data": {
      "text/plain": [
       "['1. Codecademy: https://www.codecademy.com/learn/data-analysis',\n",
       " '2. Coursera: https://www.coursera.org/learn/data-analysis',\n",
       " '3. Dataquest: https://www.dataquest.io/',\n",
       " '4. Udacity: https://www.udacity.com/courses/data-analysis',\n",
       " '5. Khan Academy: https://www.khanacademy.org/math/statistics-probability',\n",
       " '6. edX: https://www.edx.org/learn/data-analysis',\n",
       " '7. DataCamp: https://www.datacamp.com/courses/tech:data-analysis',\n",
       " '8. SQLZoo: https://sqlzoo.net/',\n",
       " '9. w3schools: https://www.w3schools.com/sql/',\n",
       " '10. SQL Tutorial: https://www.sqltutorial.org/',\n",
       " '11. Mode Analytics: https://mode.com/sql-tutorial/',\n",
       " '12. SQLBolt: https://sqlbolt.com/',\n",
       " '13. TutorialsPoint: https://www.tutorialspoint.com/sql/',\n",
       " '14. Analytics Vidhya: https://www.analyticsvidhya.com/',\n",
       " '15. Data Science Central: https://www.datasciencecentral.com/']"
      ]
     },
     "execution_count": 53,
     "metadata": {},
     "output_type": "execute_result"
    }
   ],
   "source": [
    "print(\"-------------------------------------------------------------------------------------------------------------------\")\n",
    "print(\"-------------------------------------------------------------------------------------------------------------------\")\n",
    "print(\"You can learn the top 3 skills for \" +os.environ['JOB_DESC'] + \" from the following websites: \")\n",
    "print(\"-------------------------------------------------------------------------------------------------------------------\")\n",
    "print(\"-------------------------------------------------------------------------------------------------------------------\")\n",
    "answer.splitlines()"
   ]
  },
  {
   "cell_type": "code",
   "execution_count": null,
   "metadata": {},
   "outputs": [],
   "source": []
  }
 ],
 "metadata": {
  "kernelspec": {
   "display_name": "practice",
   "language": "python",
   "name": "python3"
  },
  "language_info": {
   "codemirror_mode": {
    "name": "ipython",
    "version": 3
   },
   "file_extension": ".py",
   "mimetype": "text/x-python",
   "name": "python",
   "nbconvert_exporter": "python",
   "pygments_lexer": "ipython3",
   "version": "3.11.0"
  },
  "orig_nbformat": 4,
  "vscode": {
   "interpreter": {
    "hash": "3bc87c95aed6b8cba18a160c7b5e078ef100120c0efa438febe405f9207addd0"
   }
  }
 },
 "nbformat": 4,
 "nbformat_minor": 2
}
